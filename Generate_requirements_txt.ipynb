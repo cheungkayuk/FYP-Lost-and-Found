{
  "nbformat": 4,
  "nbformat_minor": 0,
  "metadata": {
    "colab": {
      "name": "Generate_requirements_txt.ipynb",
      "provenance": [],
      "collapsed_sections": []
    },
    "kernelspec": {
      "name": "python3",
      "display_name": "Python 3"
    },
    "language_info": {
      "name": "python"
    }
  },
  "cells": [
    {
      "cell_type": "markdown",
      "source": [
        "# **Purpose**\n",
        "\n",
        "Generate requirements.txt"
      ],
      "metadata": {
        "id": "NF6Qeae3234N"
      }
    },
    {
      "cell_type": "markdown",
      "source": [
        "# Install Anaconda"
      ],
      "metadata": {
        "id": "4NfHYP7oLADH"
      }
    },
    {
      "cell_type": "code",
      "execution_count": 1,
      "metadata": {
        "colab": {
          "base_uri": "https://localhost:8080/"
        },
        "id": "XxznioIlKWWj",
        "outputId": "fd6a62f8-2246-42e0-8b64-fcf4a12658ce"
      },
      "outputs": [
        {
          "output_type": "stream",
          "name": "stdout",
          "text": [
            "⏬ Downloading https://github.com/jaimergp/miniforge/releases/latest/download/Mambaforge-colab-Linux-x86_64.sh...\n",
            "📦 Installing...\n",
            "📌 Adjusting configuration...\n",
            "🩹 Patching environment...\n",
            "⏲ Done in 0:00:30\n",
            "🔁 Restarting kernel...\n"
          ]
        }
      ],
      "source": [
        "!pip install -q condacolab\n",
        "import condacolab\n",
        "condacolab.install()"
      ]
    },
    {
      "cell_type": "code",
      "source": [
        "!conda --version\n",
        "!which conda"
      ],
      "metadata": {
        "colab": {
          "base_uri": "https://localhost:8080/"
        },
        "id": "Op2sWtCJKknD",
        "outputId": "028d9c13-7c58-4697-99d6-25ebe2c2e6f1"
      },
      "execution_count": 2,
      "outputs": [
        {
          "output_type": "stream",
          "name": "stdout",
          "text": [
            "conda 4.9.2\n",
            "/usr/local/bin/conda\n"
          ]
        }
      ]
    },
    {
      "cell_type": "markdown",
      "source": [
        "# Create and Activate a virtual environment\n",
        "\n",
        "Specified Python version = 3.9\n",
        "\n",
        "Source: https://boscacci.medium.com/why-and-how-to-make-a-requirements-txt-f329c685181e"
      ],
      "metadata": {
        "id": "eWaRA8yNLE9L"
      }
    },
    {
      "cell_type": "code",
      "source": [
        "# Create a virtual environment\n",
        "!conda create -n fyp_lost_and_found_env python=3.9"
      ],
      "metadata": {
        "colab": {
          "base_uri": "https://localhost:8080/"
        },
        "id": "4ylQPL9lKn6M",
        "outputId": "972f63d1-4acf-46d4-c9c7-693ec4a69cf2"
      },
      "execution_count": 3,
      "outputs": [
        {
          "output_type": "stream",
          "name": "stdout",
          "text": [
            "Collecting package metadata (current_repodata.json): - \b\b\\ \b\b| \b\b/ \b\b- \b\b\\ \b\b| \b\b/ \b\b- \b\b\\ \b\b| \b\b/ \b\b- \b\b\\ \b\b| \b\b/ \b\b- \b\b\\ \b\b| \b\b/ \b\b- \b\b\\ \b\b| \b\b/ \b\b- \b\b\\ \b\b| \b\b/ \b\b- \b\b\\ \b\b| \b\b/ \b\b- \b\b\\ \b\b| \b\b/ \b\b- \b\b\\ \b\b| \b\b/ \b\b- \b\b\\ \b\b| \b\b/ \b\b- \b\b\\ \b\b| \b\b/ \b\b- \b\b\\ \b\b| \b\b/ \b\b- \b\b\\ \b\b| \b\b/ \b\b- \b\b\\ \b\b| \b\b/ \b\b- \b\b\\ \b\b| \b\b/ \b\b- \b\b\\ \b\b| \b\b/ \b\b- \b\b\\ \b\b| \b\b/ \b\b- \b\b\\ \b\b| \b\b/ \b\b- \b\b\\ \b\b| \b\b/ \b\b- \b\b\\ \b\b| \b\b/ \b\b- \b\b\\ \b\b| \b\b/ \b\b- \b\b\\ \b\b| \b\b/ \b\b- \b\b\\ \b\b| \b\b/ \b\b- \b\b\\ \b\bdone\n",
            "Solving environment: / \b\b- \b\b\\ \b\b| \b\bdone\n",
            "\n",
            "\n",
            "==> WARNING: A newer version of conda exists. <==\n",
            "  current version: 4.9.2\n",
            "  latest version: 4.12.0\n",
            "\n",
            "Please update conda by running\n",
            "\n",
            "    $ conda update -n base conda\n",
            "\n",
            "\n",
            "\n",
            "## Package Plan ##\n",
            "\n",
            "  environment location: /usr/local/envs/fyp_lost_and_found_env\n",
            "\n",
            "  added / updated specs:\n",
            "    - python=3.9\n",
            "\n",
            "\n",
            "The following packages will be downloaded:\n",
            "\n",
            "    package                    |            build\n",
            "    ---------------------------|-----------------\n",
            "    ca-certificates-2021.10.8  |       ha878542_0         139 KB  conda-forge\n",
            "    ld_impl_linux-64-2.36.1    |       hea4e1c9_2         667 KB  conda-forge\n",
            "    libffi-3.4.2               |       h7f98852_5          57 KB  conda-forge\n",
            "    libgcc-ng-11.2.0           |      h1d223b6_15         911 KB  conda-forge\n",
            "    libgomp-11.2.0             |      h1d223b6_15         432 KB  conda-forge\n",
            "    libnsl-2.0.0               |       h7f98852_0          31 KB  conda-forge\n",
            "    libuuid-2.32.1             |    h7f98852_1000          28 KB  conda-forge\n",
            "    libzlib-1.2.11             |    h166bdaf_1014          60 KB  conda-forge\n",
            "    ncurses-6.3                |       h27087fc_1        1002 KB  conda-forge\n",
            "    openssl-3.0.2              |       h166bdaf_1         2.9 MB  conda-forge\n",
            "    pip-22.0.4                 |     pyhd8ed1ab_0         1.5 MB  conda-forge\n",
            "    python-3.9.12              |h2660328_1_cpython        26.6 MB  conda-forge\n",
            "    python_abi-3.9             |           2_cp39           4 KB  conda-forge\n",
            "    readline-8.1               |       h46c0cb4_0         295 KB  conda-forge\n",
            "    setuptools-62.1.0          |   py39hf3d152e_0         1.3 MB  conda-forge\n",
            "    sqlite-3.38.2              |       h4ff8645_0         1.5 MB  conda-forge\n",
            "    tk-8.6.12                  |       h27826a3_0         3.3 MB  conda-forge\n",
            "    tzdata-2022a               |       h191b570_0         121 KB  conda-forge\n",
            "    wheel-0.37.1               |     pyhd8ed1ab_0          31 KB  conda-forge\n",
            "    zlib-1.2.11                |    h166bdaf_1014          88 KB  conda-forge\n",
            "    ------------------------------------------------------------\n",
            "                                           Total:        40.8 MB\n",
            "\n",
            "The following NEW packages will be INSTALLED:\n",
            "\n",
            "  _libgcc_mutex      conda-forge/linux-64::_libgcc_mutex-0.1-conda_forge\n",
            "  _openmp_mutex      conda-forge/linux-64::_openmp_mutex-4.5-1_gnu\n",
            "  bzip2              conda-forge/linux-64::bzip2-1.0.8-h7f98852_4\n",
            "  ca-certificates    conda-forge/linux-64::ca-certificates-2021.10.8-ha878542_0\n",
            "  ld_impl_linux-64   conda-forge/linux-64::ld_impl_linux-64-2.36.1-hea4e1c9_2\n",
            "  libffi             conda-forge/linux-64::libffi-3.4.2-h7f98852_5\n",
            "  libgcc-ng          conda-forge/linux-64::libgcc-ng-11.2.0-h1d223b6_15\n",
            "  libgomp            conda-forge/linux-64::libgomp-11.2.0-h1d223b6_15\n",
            "  libnsl             conda-forge/linux-64::libnsl-2.0.0-h7f98852_0\n",
            "  libuuid            conda-forge/linux-64::libuuid-2.32.1-h7f98852_1000\n",
            "  libzlib            conda-forge/linux-64::libzlib-1.2.11-h166bdaf_1014\n",
            "  ncurses            conda-forge/linux-64::ncurses-6.3-h27087fc_1\n",
            "  openssl            conda-forge/linux-64::openssl-3.0.2-h166bdaf_1\n",
            "  pip                conda-forge/noarch::pip-22.0.4-pyhd8ed1ab_0\n",
            "  python             conda-forge/linux-64::python-3.9.12-h2660328_1_cpython\n",
            "  python_abi         conda-forge/linux-64::python_abi-3.9-2_cp39\n",
            "  readline           conda-forge/linux-64::readline-8.1-h46c0cb4_0\n",
            "  setuptools         conda-forge/linux-64::setuptools-62.1.0-py39hf3d152e_0\n",
            "  sqlite             conda-forge/linux-64::sqlite-3.38.2-h4ff8645_0\n",
            "  tk                 conda-forge/linux-64::tk-8.6.12-h27826a3_0\n",
            "  tzdata             conda-forge/noarch::tzdata-2022a-h191b570_0\n",
            "  wheel              conda-forge/noarch::wheel-0.37.1-pyhd8ed1ab_0\n",
            "  xz                 conda-forge/linux-64::xz-5.2.5-h516909a_1\n",
            "  zlib               conda-forge/linux-64::zlib-1.2.11-h166bdaf_1014\n",
            "\n",
            "\n",
            "\n",
            "Downloading and Extracting Packages\n",
            "libffi-3.4.2         | 57 KB     | : 100% 1.0/1 [00:00<00:00,  6.86it/s]               \n",
            "zlib-1.2.11          | 88 KB     | : 100% 1.0/1 [00:00<00:00, 16.54it/s]\n",
            "openssl-3.0.2        | 2.9 MB    | : 100% 1.0/1 [00:00<00:00,  1.55it/s]\n",
            "wheel-0.37.1         | 31 KB     | : 100% 1.0/1 [00:00<00:00, 24.05it/s]\n",
            "libnsl-2.0.0         | 31 KB     | : 100% 1.0/1 [00:00<00:00, 23.81it/s]\n",
            "libgcc-ng-11.2.0     | 911 KB    | : 100% 1.0/1 [00:00<00:00,  4.61it/s]\n",
            "tzdata-2022a         | 121 KB    | : 100% 1.0/1 [00:00<00:00,  9.34it/s]\n",
            "sqlite-3.38.2        | 1.5 MB    | : 100% 1.0/1 [00:00<00:00,  3.28it/s]\n",
            "python_abi-3.9       | 4 KB      | : 100% 1.0/1 [00:00<00:00, 23.10it/s]\n",
            "setuptools-62.1.0    | 1.3 MB    | : 100% 1.0/1 [00:00<00:00,  2.38it/s]\n",
            "libzlib-1.2.11       | 60 KB     | : 100% 1.0/1 [00:00<00:00, 23.36it/s]\n",
            "ld_impl_linux-64-2.3 | 667 KB    | : 100% 1.0/1 [00:00<00:00,  5.77it/s]\n",
            "readline-8.1         | 295 KB    | : 100% 1.0/1 [00:00<00:00,  9.90it/s]\n",
            "libuuid-2.32.1       | 28 KB     | : 100% 1.0/1 [00:00<00:00, 21.64it/s]\n",
            "python-3.9.12        | 26.6 MB   | : 100% 1.0/1 [00:05<00:00,  5.75s/it]\n",
            "ca-certificates-2021 | 139 KB    | : 100% 1.0/1 [00:00<00:00, 18.02it/s]\n",
            "ncurses-6.3          | 1002 KB   | : 100% 1.0/1 [00:00<00:00,  1.87it/s]\n",
            "pip-22.0.4           | 1.5 MB    | : 100% 1.0/1 [00:00<00:00,  1.93it/s]\n",
            "tk-8.6.12            | 3.3 MB    | : 100% 1.0/1 [00:00<00:00,  1.33it/s]\n",
            "libgomp-11.2.0       | 432 KB    | : 100% 1.0/1 [00:00<00:00,  8.97it/s]\n",
            "Preparing transaction: - \b\b\\ \b\b| \b\b/ \b\bdone\n",
            "Verifying transaction: \\ \b\b| \b\b/ \b\b- \b\b\\ \b\b| \b\b/ \b\b- \b\b\\ \b\b| \b\b/ \b\b- \b\b\\ \b\b| \b\b/ \b\bdone\n",
            "Executing transaction: \\ \b\b| \b\b/ \b\b- \b\b\\ \b\b| \b\b/ \b\b- \b\b\\ \b\b| \b\b/ \b\b- \b\b\\ \b\b| \b\b/ \b\b- \b\b\\ \b\b| \b\b/ \b\b- \b\b\\ \b\b| \b\b/ \b\b- \b\bdone\n",
            "#\n",
            "# To activate this environment, use\n",
            "#\n",
            "#     $ conda activate fyp_lost_and_found_env\n",
            "#\n",
            "# To deactivate an active environment, use\n",
            "#\n",
            "#     $ conda deactivate\n",
            "\n"
          ]
        }
      ]
    },
    {
      "cell_type": "code",
      "source": [
        "# List conda environments\n",
        "!conda env list"
      ],
      "metadata": {
        "colab": {
          "base_uri": "https://localhost:8080/"
        },
        "id": "0UbuFEM4Kr0E",
        "outputId": "100f06c4-c1c3-4d77-c167-c3fec7a4aac4"
      },
      "execution_count": 4,
      "outputs": [
        {
          "output_type": "stream",
          "name": "stdout",
          "text": [
            "# conda environments:\n",
            "#\n",
            "base                  *  /usr/local\n",
            "fyp_lost_and_found_env     /usr/local/envs/fyp_lost_and_found_env\n",
            "\n"
          ]
        }
      ]
    },
    {
      "cell_type": "code",
      "source": [
        "# Activate the virtual environment\n",
        "!conda activate fyp_lost_and_found_env"
      ],
      "metadata": {
        "colab": {
          "base_uri": "https://localhost:8080/"
        },
        "id": "uVvzj5KcKs6H",
        "outputId": "168a1f5a-2ef1-42fc-82ae-d719fa3541bf"
      },
      "execution_count": 5,
      "outputs": [
        {
          "output_type": "stream",
          "name": "stdout",
          "text": [
            "\n",
            "CommandNotFoundError: Your shell has not been properly configured to use 'conda activate'.\n",
            "To initialize your shell, run\n",
            "\n",
            "    $ conda init <SHELL_NAME>\n",
            "\n",
            "Currently supported shells are:\n",
            "  - bash\n",
            "  - fish\n",
            "  - tcsh\n",
            "  - xonsh\n",
            "  - zsh\n",
            "  - powershell\n",
            "\n",
            "See 'conda init --help' for more information and options.\n",
            "\n",
            "IMPORTANT: You may need to close and restart your shell after running 'conda init'.\n",
            "\n",
            "\n"
          ]
        }
      ]
    },
    {
      "cell_type": "markdown",
      "source": [
        "# Generate requirements.txt"
      ],
      "metadata": {
        "id": "r-pD_ahWM89e"
      }
    },
    {
      "cell_type": "code",
      "source": [
        "# Pip Install the required packages\n",
        "\n",
        "!pip install imagehash\n",
        "!pip install serial\n",
        "!pip install telebot\n",
        "!pip install telethon\n",
        "!pip install torch\n",
        "!pip install torchvision\n",
        "!pip install opencv-python\n",
        "!pip install numpy\n",
        "!pip install micropython-imghdr"
      ],
      "metadata": {
        "colab": {
          "base_uri": "https://localhost:8080/"
        },
        "id": "DKBSQyjzKyAR",
        "outputId": "564f6975-b8f4-4521-9e74-ae565f8eded6"
      },
      "execution_count": 6,
      "outputs": [
        {
          "output_type": "stream",
          "name": "stdout",
          "text": [
            "Collecting imagehash\n",
            "  Downloading ImageHash-4.2.1.tar.gz (812 kB)\n",
            "\u001b[?25l\r\u001b[K     |▍                               | 10 kB 17.5 MB/s eta 0:00:01\r\u001b[K     |▉                               | 20 kB 22.4 MB/s eta 0:00:01\r\u001b[K     |█▏                              | 30 kB 16.0 MB/s eta 0:00:01\r\u001b[K     |█▋                              | 40 kB 7.6 MB/s eta 0:00:01\r\u001b[K     |██                              | 51 kB 6.2 MB/s eta 0:00:01\r\u001b[K     |██▍                             | 61 kB 7.2 MB/s eta 0:00:01\r\u001b[K     |██▉                             | 71 kB 7.8 MB/s eta 0:00:01\r\u001b[K     |███▎                            | 81 kB 6.9 MB/s eta 0:00:01\r\u001b[K     |███▋                            | 92 kB 7.6 MB/s eta 0:00:01\r\u001b[K     |████                            | 102 kB 8.2 MB/s eta 0:00:01\r\u001b[K     |████▍                           | 112 kB 8.2 MB/s eta 0:00:01\r\u001b[K     |████▉                           | 122 kB 8.2 MB/s eta 0:00:01\r\u001b[K     |█████▎                          | 133 kB 8.2 MB/s eta 0:00:01\r\u001b[K     |█████▋                          | 143 kB 8.2 MB/s eta 0:00:01\r\u001b[K     |██████                          | 153 kB 8.2 MB/s eta 0:00:01\r\u001b[K     |██████▌                         | 163 kB 8.2 MB/s eta 0:00:01\r\u001b[K     |██████▉                         | 174 kB 8.2 MB/s eta 0:00:01\r\u001b[K     |███████▎                        | 184 kB 8.2 MB/s eta 0:00:01\r\u001b[K     |███████▋                        | 194 kB 8.2 MB/s eta 0:00:01\r\u001b[K     |████████                        | 204 kB 8.2 MB/s eta 0:00:01\r\u001b[K     |████████▌                       | 215 kB 8.2 MB/s eta 0:00:01\r\u001b[K     |████████▉                       | 225 kB 8.2 MB/s eta 0:00:01\r\u001b[K     |█████████▎                      | 235 kB 8.2 MB/s eta 0:00:01\r\u001b[K     |█████████▊                      | 245 kB 8.2 MB/s eta 0:00:01\r\u001b[K     |██████████                      | 256 kB 8.2 MB/s eta 0:00:01\r\u001b[K     |██████████▌                     | 266 kB 8.2 MB/s eta 0:00:01\r\u001b[K     |██████████▉                     | 276 kB 8.2 MB/s eta 0:00:01\r\u001b[K     |███████████▎                    | 286 kB 8.2 MB/s eta 0:00:01\r\u001b[K     |███████████▊                    | 296 kB 8.2 MB/s eta 0:00:01\r\u001b[K     |████████████                    | 307 kB 8.2 MB/s eta 0:00:01\r\u001b[K     |████████████▌                   | 317 kB 8.2 MB/s eta 0:00:01\r\u001b[K     |█████████████                   | 327 kB 8.2 MB/s eta 0:00:01\r\u001b[K     |█████████████▎                  | 337 kB 8.2 MB/s eta 0:00:01\r\u001b[K     |█████████████▊                  | 348 kB 8.2 MB/s eta 0:00:01\r\u001b[K     |██████████████▏                 | 358 kB 8.2 MB/s eta 0:00:01\r\u001b[K     |██████████████▌                 | 368 kB 8.2 MB/s eta 0:00:01\r\u001b[K     |███████████████                 | 378 kB 8.2 MB/s eta 0:00:01\r\u001b[K     |███████████████▎                | 389 kB 8.2 MB/s eta 0:00:01\r\u001b[K     |███████████████▊                | 399 kB 8.2 MB/s eta 0:00:01\r\u001b[K     |████████████████▏               | 409 kB 8.2 MB/s eta 0:00:01\r\u001b[K     |████████████████▌               | 419 kB 8.2 MB/s eta 0:00:01\r\u001b[K     |█████████████████               | 430 kB 8.2 MB/s eta 0:00:01\r\u001b[K     |█████████████████▍              | 440 kB 8.2 MB/s eta 0:00:01\r\u001b[K     |█████████████████▊              | 450 kB 8.2 MB/s eta 0:00:01\r\u001b[K     |██████████████████▏             | 460 kB 8.2 MB/s eta 0:00:01\r\u001b[K     |██████████████████▌             | 471 kB 8.2 MB/s eta 0:00:01\r\u001b[K     |███████████████████             | 481 kB 8.2 MB/s eta 0:00:01\r\u001b[K     |███████████████████▍            | 491 kB 8.2 MB/s eta 0:00:01\r\u001b[K     |███████████████████▊            | 501 kB 8.2 MB/s eta 0:00:01\r\u001b[K     |████████████████████▏           | 512 kB 8.2 MB/s eta 0:00:01\r\u001b[K     |████████████████████▋           | 522 kB 8.2 MB/s eta 0:00:01\r\u001b[K     |█████████████████████           | 532 kB 8.2 MB/s eta 0:00:01\r\u001b[K     |█████████████████████▍          | 542 kB 8.2 MB/s eta 0:00:01\r\u001b[K     |█████████████████████▊          | 552 kB 8.2 MB/s eta 0:00:01\r\u001b[K     |██████████████████████▏         | 563 kB 8.2 MB/s eta 0:00:01\r\u001b[K     |██████████████████████▋         | 573 kB 8.2 MB/s eta 0:00:01\r\u001b[K     |███████████████████████         | 583 kB 8.2 MB/s eta 0:00:01\r\u001b[K     |███████████████████████▍        | 593 kB 8.2 MB/s eta 0:00:01\r\u001b[K     |███████████████████████▉        | 604 kB 8.2 MB/s eta 0:00:01\r\u001b[K     |████████████████████████▏       | 614 kB 8.2 MB/s eta 0:00:01\r\u001b[K     |████████████████████████▋       | 624 kB 8.2 MB/s eta 0:00:01\r\u001b[K     |█████████████████████████       | 634 kB 8.2 MB/s eta 0:00:01\r\u001b[K     |█████████████████████████▍      | 645 kB 8.2 MB/s eta 0:00:01\r\u001b[K     |█████████████████████████▉      | 655 kB 8.2 MB/s eta 0:00:01\r\u001b[K     |██████████████████████████▏     | 665 kB 8.2 MB/s eta 0:00:01\r\u001b[K     |██████████████████████████▋     | 675 kB 8.2 MB/s eta 0:00:01\r\u001b[K     |███████████████████████████     | 686 kB 8.2 MB/s eta 0:00:01\r\u001b[K     |███████████████████████████▍    | 696 kB 8.2 MB/s eta 0:00:01\r\u001b[K     |███████████████████████████▉    | 706 kB 8.2 MB/s eta 0:00:01\r\u001b[K     |████████████████████████████▎   | 716 kB 8.2 MB/s eta 0:00:01\r\u001b[K     |████████████████████████████▋   | 727 kB 8.2 MB/s eta 0:00:01\r\u001b[K     |█████████████████████████████   | 737 kB 8.2 MB/s eta 0:00:01\r\u001b[K     |█████████████████████████████▍  | 747 kB 8.2 MB/s eta 0:00:01\r\u001b[K     |█████████████████████████████▉  | 757 kB 8.2 MB/s eta 0:00:01\r\u001b[K     |██████████████████████████████▎ | 768 kB 8.2 MB/s eta 0:00:01\r\u001b[K     |██████████████████████████████▋ | 778 kB 8.2 MB/s eta 0:00:01\r\u001b[K     |███████████████████████████████ | 788 kB 8.2 MB/s eta 0:00:01\r\u001b[K     |███████████████████████████████▌| 798 kB 8.2 MB/s eta 0:00:01\r\u001b[K     |███████████████████████████████▉| 808 kB 8.2 MB/s eta 0:00:01\r\u001b[K     |████████████████████████████████| 812 kB 8.2 MB/s \n",
            "\u001b[?25hRequirement already satisfied: six in /usr/local/lib/python3.7/site-packages (from imagehash) (1.15.0)\n",
            "Collecting numpy\n",
            "  Downloading numpy-1.21.6-cp37-cp37m-manylinux_2_12_x86_64.manylinux2010_x86_64.whl (15.7 MB)\n",
            "\u001b[K     |████████████████████████████████| 15.7 MB 41.9 MB/s \n",
            "\u001b[?25hCollecting scipy\n",
            "  Downloading scipy-1.7.3-cp37-cp37m-manylinux_2_12_x86_64.manylinux2010_x86_64.whl (38.1 MB)\n",
            "\u001b[K     |████████████████████████████████| 38.1 MB 1.1 MB/s \n",
            "\u001b[?25hCollecting pillow\n",
            "  Downloading Pillow-9.1.0-cp37-cp37m-manylinux_2_17_x86_64.manylinux2014_x86_64.whl (4.3 MB)\n",
            "\u001b[K     |████████████████████████████████| 4.3 MB 38.7 MB/s \n",
            "\u001b[?25hCollecting PyWavelets\n",
            "  Downloading PyWavelets-1.3.0-cp37-cp37m-manylinux_2_5_x86_64.manylinux1_x86_64.manylinux_2_12_x86_64.manylinux2010_x86_64.whl (6.4 MB)\n",
            "\u001b[K     |████████████████████████████████| 6.4 MB 26.3 MB/s \n",
            "\u001b[?25hBuilding wheels for collected packages: imagehash\n",
            "  Building wheel for imagehash (setup.py) ... \u001b[?25l\u001b[?25hdone\n",
            "  Created wheel for imagehash: filename=ImageHash-4.2.1-py2.py3-none-any.whl size=295198 sha256=72f04b2785375db7f90bf2da57368b1ef1ea57f066b7fa850fc545b5cc702aa9\n",
            "  Stored in directory: /root/.cache/pip/wheels/4c/d5/59/5e3e297533ddb09407769762985d134135064c6831e29a914e\n",
            "Successfully built imagehash\n",
            "Installing collected packages: numpy, scipy, PyWavelets, pillow, imagehash\n",
            "Successfully installed PyWavelets-1.3.0 imagehash-4.2.1 numpy-1.21.6 pillow-9.1.0 scipy-1.7.3\n",
            "Collecting serial\n",
            "  Downloading serial-0.0.97-py2.py3-none-any.whl (40 kB)\n",
            "\u001b[K     |████████████████████████████████| 40 kB 4.6 MB/s \n",
            "\u001b[?25hCollecting iso8601>=0.1.12\n",
            "  Downloading iso8601-1.0.2-py3-none-any.whl (9.7 kB)\n",
            "Collecting pyyaml>=3.13\n",
            "  Downloading PyYAML-6.0-cp37-cp37m-manylinux_2_5_x86_64.manylinux1_x86_64.manylinux_2_12_x86_64.manylinux2010_x86_64.whl (596 kB)\n",
            "\u001b[K     |████████████████████████████████| 596 kB 17.5 MB/s \n",
            "\u001b[?25hCollecting future>=0.17.1\n",
            "  Downloading future-0.18.2.tar.gz (829 kB)\n",
            "\u001b[K     |████████████████████████████████| 829 kB 52.8 MB/s \n",
            "\u001b[?25hBuilding wheels for collected packages: future\n",
            "  Building wheel for future (setup.py) ... \u001b[?25l\u001b[?25hdone\n",
            "  Created wheel for future: filename=future-0.18.2-py3-none-any.whl size=491059 sha256=21f4c2988b7c62b173e07467690d327f6e21048d864b0deabaa01332490fdee3\n",
            "  Stored in directory: /root/.cache/pip/wheels/56/b0/fe/4410d17b32f1f0c3cf54cdfb2bc04d7b4b8f4ae377e2229ba0\n",
            "Successfully built future\n",
            "Installing collected packages: pyyaml, iso8601, future, serial\n",
            "Successfully installed future-0.18.2 iso8601-1.0.2 pyyaml-6.0 serial-0.0.97\n",
            "Collecting telebot\n",
            "  Downloading telebot-0.0.4-py3-none-any.whl (4.6 kB)\n",
            "Requirement already satisfied: requests in /usr/local/lib/python3.7/site-packages (from telebot) (2.25.1)\n",
            "Requirement already satisfied: chardet<5,>=3.0.2 in /usr/local/lib/python3.7/site-packages (from requests->telebot) (4.0.0)\n",
            "Requirement already satisfied: certifi>=2017.4.17 in /usr/local/lib/python3.7/site-packages (from requests->telebot) (2020.12.5)\n",
            "Requirement already satisfied: idna<3,>=2.5 in /usr/local/lib/python3.7/site-packages (from requests->telebot) (2.10)\n",
            "Requirement already satisfied: urllib3<1.27,>=1.21.1 in /usr/local/lib/python3.7/site-packages (from requests->telebot) (1.26.3)\n",
            "Installing collected packages: telebot\n",
            "Successfully installed telebot-0.0.4\n",
            "Collecting telethon\n",
            "  Downloading Telethon-1.24.0-py3-none-any.whl (528 kB)\n",
            "\u001b[K     |████████████████████████████████| 528 kB 7.5 MB/s \n",
            "\u001b[?25hCollecting rsa\n",
            "  Downloading rsa-4.8-py3-none-any.whl (39 kB)\n",
            "Collecting pyaes\n",
            "  Downloading pyaes-1.6.1.tar.gz (28 kB)\n",
            "Collecting pyasn1>=0.1.3\n",
            "  Downloading pyasn1-0.4.8-py2.py3-none-any.whl (77 kB)\n",
            "\u001b[K     |████████████████████████████████| 77 kB 5.2 MB/s \n",
            "\u001b[?25hBuilding wheels for collected packages: pyaes\n",
            "  Building wheel for pyaes (setup.py) ... \u001b[?25l\u001b[?25hdone\n",
            "  Created wheel for pyaes: filename=pyaes-1.6.1-py3-none-any.whl size=26345 sha256=cdc387c84ddd3ade5b2bd6d1c0d761d3dcd22660a7cd86b510badcf865b55030\n",
            "  Stored in directory: /root/.cache/pip/wheels/42/a3/7d/73d60820adb58d818179cdec3fc1be66f6f7453513a3ff0b05\n",
            "Successfully built pyaes\n",
            "Installing collected packages: pyasn1, rsa, pyaes, telethon\n",
            "Successfully installed pyaes-1.6.1 pyasn1-0.4.8 rsa-4.8 telethon-1.24.0\n",
            "Collecting torch\n",
            "  Downloading torch-1.11.0-cp37-cp37m-manylinux1_x86_64.whl (750.6 MB)\n",
            "\u001b[K     |████████████████████████████████| 750.6 MB 10 kB/s \n",
            "\u001b[?25hCollecting typing-extensions\n",
            "  Downloading typing_extensions-4.2.0-py3-none-any.whl (24 kB)\n",
            "Installing collected packages: typing-extensions, torch\n",
            "Successfully installed torch-1.11.0 typing-extensions-4.2.0\n",
            "Collecting torchvision\n",
            "  Downloading torchvision-0.12.0-cp37-cp37m-manylinux1_x86_64.whl (21.0 MB)\n",
            "\u001b[K     |████████████████████████████████| 21.0 MB 1.3 MB/s \n",
            "\u001b[?25hRequirement already satisfied: numpy in /usr/local/lib/python3.7/site-packages (from torchvision) (1.21.6)\n",
            "Requirement already satisfied: torch==1.11.0 in /usr/local/lib/python3.7/site-packages (from torchvision) (1.11.0)\n",
            "Requirement already satisfied: pillow!=8.3.*,>=5.3.0 in /usr/local/lib/python3.7/site-packages (from torchvision) (9.1.0)\n",
            "Requirement already satisfied: typing-extensions in /usr/local/lib/python3.7/site-packages (from torchvision) (4.2.0)\n",
            "Requirement already satisfied: requests in /usr/local/lib/python3.7/site-packages (from torchvision) (2.25.1)\n",
            "Requirement already satisfied: urllib3<1.27,>=1.21.1 in /usr/local/lib/python3.7/site-packages (from requests->torchvision) (1.26.3)\n",
            "Requirement already satisfied: chardet<5,>=3.0.2 in /usr/local/lib/python3.7/site-packages (from requests->torchvision) (4.0.0)\n",
            "Requirement already satisfied: certifi>=2017.4.17 in /usr/local/lib/python3.7/site-packages (from requests->torchvision) (2020.12.5)\n",
            "Requirement already satisfied: idna<3,>=2.5 in /usr/local/lib/python3.7/site-packages (from requests->torchvision) (2.10)\n",
            "Installing collected packages: torchvision\n",
            "Successfully installed torchvision-0.12.0\n",
            "Collecting opencv-python\n",
            "  Downloading opencv_python-4.5.5.64-cp36-abi3-manylinux_2_17_x86_64.manylinux2014_x86_64.whl (60.5 MB)\n",
            "\u001b[K     |████████████████████████████████| 60.5 MB 71 kB/s \n",
            "\u001b[?25hRequirement already satisfied: numpy>=1.14.5 in /usr/local/lib/python3.7/site-packages (from opencv-python) (1.21.6)\n",
            "Installing collected packages: opencv-python\n",
            "Successfully installed opencv-python-4.5.5.64\n",
            "Requirement already satisfied: numpy in /usr/local/lib/python3.7/site-packages (1.21.6)\n",
            "Collecting micropython-imghdr\n",
            "  Downloading micropython-imghdr-0.0.0.tar.gz (595 bytes)\n",
            "\u001b[33mWARNING: Discarding https://files.pythonhosted.org/packages/f4/ca/535824f3dcc5175084f0c3be67984e4a5681065e222ea79806decbf31892/micropython-imghdr-0.0.0.tar.gz#sha256=32caf0fa436051228f030ec14727a8dc16d31b638d22706ca3d4383d4cfb6f5c (from https://pypi.org/simple/micropython-imghdr/). Command errored out with exit status 1: python setup.py egg_info Check the logs for full command output.\u001b[0m\n",
            "\u001b[31mERROR: Could not find a version that satisfies the requirement micropython-imghdr\u001b[0m\n",
            "\u001b[31mERROR: No matching distribution found for micropython-imghdr\u001b[0m\n"
          ]
        }
      ]
    },
    {
      "cell_type": "code",
      "source": [
        "# write the file\n",
        "!pip freeze > requirements.txt\n",
        "\n",
        "# show the contents\n",
        "!cat requirements.txt"
      ],
      "metadata": {
        "colab": {
          "base_uri": "https://localhost:8080/"
        },
        "id": "JEMOFLS6KuUm",
        "outputId": "34e8db94-1ad9-4eb9-837a-3474f08f14e1"
      },
      "execution_count": 1,
      "outputs": [
        {
          "output_type": "stream",
          "name": "stdout",
          "text": [
            "brotlipy==0.7.0\n",
            "certifi==2020.12.5\n",
            "cffi @ file:///home/conda/feedstock_root/build_artifacts/cffi_1613413867554/work\n",
            "chardet @ file:///home/conda/feedstock_root/build_artifacts/chardet_1610093487176/work\n",
            "conda==4.9.2\n",
            "conda-package-handling @ file:///home/conda/feedstock_root/build_artifacts/conda-package-handling_1602876795648/work\n",
            "cryptography @ file:///home/conda/feedstock_root/build_artifacts/cryptography_1615330556836/work\n",
            "future==0.18.2\n",
            "idna @ file:///home/conda/feedstock_root/build_artifacts/idna_1593328102638/work\n",
            "ImageHash==4.2.1\n",
            "iso8601==1.0.2\n",
            "mamba @ file:///home/conda/feedstock_root/build_artifacts/mamba_1615043240478/work\n",
            "numpy==1.21.6\n",
            "opencv-python==4.5.5.64\n",
            "Pillow==9.1.0\n",
            "pyaes==1.6.1\n",
            "pyasn1==0.4.8\n",
            "pycosat @ file:///home/conda/feedstock_root/build_artifacts/pycosat_1610094791171/work\n",
            "pycparser @ file:///home/conda/feedstock_root/build_artifacts/pycparser_1593275161868/work\n",
            "pyOpenSSL @ file:///home/conda/feedstock_root/build_artifacts/pyopenssl_1608055815057/work\n",
            "PySocks @ file:///home/conda/feedstock_root/build_artifacts/pysocks_1610291444829/work\n",
            "PyWavelets==1.3.0\n",
            "PyYAML==6.0\n",
            "requests @ file:///home/conda/feedstock_root/build_artifacts/requests_1608156231189/work\n",
            "rsa==4.8\n",
            "ruamel-yaml-conda @ file:///home/conda/feedstock_root/build_artifacts/ruamel_yaml_1611943443937/work\n",
            "scipy==1.7.3\n",
            "serial==0.0.97\n",
            "six @ file:///home/conda/feedstock_root/build_artifacts/six_1590081179328/work\n",
            "telebot==0.0.4\n",
            "Telethon==1.24.0\n",
            "torch==1.11.0\n",
            "torchvision==0.12.0\n",
            "tqdm @ file:///home/conda/feedstock_root/build_artifacts/tqdm_1614982742480/work\n",
            "typing-extensions==4.2.0\n",
            "urllib3 @ file:///home/conda/feedstock_root/build_artifacts/urllib3_1611695416663/work\n"
          ]
        }
      ]
    },
    {
      "cell_type": "markdown",
      "source": [
        "# Pip Install with the requirements.txt"
      ],
      "metadata": {
        "id": "2_KFXaoYOP8x"
      }
    },
    {
      "cell_type": "code",
      "source": [
        "# Exit the current venv (fyp_lost_and_found_env)\n",
        "!conda deactivate\n",
        "\n",
        "# Spin up a new one\n",
        "!conda create -n test_env python=3.4\n",
        "\n",
        "# Activate it\n",
        "!conda activate test_env\n",
        "\n",
        "# Install from our fancy new file\n",
        "!pip install -r requirements.txt"
      ],
      "metadata": {
        "colab": {
          "base_uri": "https://localhost:8080/"
        },
        "id": "CBwZpBgAOXwU",
        "outputId": "4101e977-e930-4800-a1e8-932d0b6cce89"
      },
      "execution_count": 2,
      "outputs": [
        {
          "output_type": "stream",
          "name": "stdout",
          "text": [
            "\n",
            "CommandNotFoundError: Your shell has not been properly configured to use 'conda deactivate'.\n",
            "To initialize your shell, run\n",
            "\n",
            "    $ conda init <SHELL_NAME>\n",
            "\n",
            "Currently supported shells are:\n",
            "  - bash\n",
            "  - fish\n",
            "  - tcsh\n",
            "  - xonsh\n",
            "  - zsh\n",
            "  - powershell\n",
            "\n",
            "See 'conda init --help' for more information and options.\n",
            "\n",
            "IMPORTANT: You may need to close and restart your shell after running 'conda init'.\n",
            "\n",
            "\n",
            "Collecting package metadata (current_repodata.json): - \b\b\\ \b\b| \b\b/ \b\b- \b\b\\ \b\b| \b\b/ \b\b- \b\b\\ \b\b| \b\b/ \b\bdone\n",
            "Solving environment: \\ \b\b| \b\b/ \b\b- \b\b\\ \b\b| \b\b/ \b\bfailed with repodata from current_repodata.json, will retry with next repodata source.\n",
            "Collecting package metadata (repodata.json): \\ \b\b| \b\b/ \b\b- \b\b\\ \b\b| \b\b/ \b\b- \b\b\\ \b\b| \b\b/ \b\b- \b\b\\ \b\b| \b\b/ \b\b- \b\b\\ \b\b| \b\b/ \b\b- \b\b\\ \b\b| \b\b/ \b\b- \b\b\\ \b\b| \b\b/ \b\b- \b\b\\ \b\b| \b\b/ \b\b- \b\b\\ \b\b| \b\b/ \b\b- \b\b\\ \b\b| \b\b/ \b\b- \b\b\\ \b\b| \b\b/ \b\b- \b\b\\ \b\b| \b\b/ \b\b- \b\b\\ \b\b| \b\b/ \b\b- \b\b\\ \b\b| \b\b/ \b\b- \b\b\\ \b\b| \b\b/ \b\b- \b\b\\ \b\b| \b\b/ \b\b- \b\b\\ \b\b| \b\b/ \b\b- \b\b\\ \b\b| \b\b/ \b\b- \b\b\\ \b\b| \b\b/ \b\b- \b\b\\ \b\b| \b\b/ \b\b- \b\b\\ \b\b| \b\b/ \b\b- \b\b\\ \b\b| \b\b/ \b\b- \b\b\\ \b\b| \b\b/ \b\b- \b\b\\ \b\b| \b\b/ \b\b- \b\b\\ \b\b| \b\b/ \b\b- \b\b\\ \b\b| \b\b/ \b\b- \b\b\\ \b\b| \b\b/ \b\b- \b\b\\ \b\b| \b\b/ \b\b- \b\b\\ \b\b| \b\b/ \b\b- \b\b\\ \b\b| \b\b/ \b\b- \b\b\\ \b\b| \b\b/ \b\b- \b\b\\ \b\b| \b\b/ \b\b- \b\b\\ \b\b| \b\b/ \b\b- \b\b\\ \b\b| \b\b/ \b\b- \b\b\\ \b\b| \b\b/ \b\b- \b\b\\ \b\b| \b\b/ \b\b- \b\b\\ \b\b| \b\b/ \b\b- \b\b\\ \b\b| \b\b/ \b\b- \b\b\\ \b\b| \b\b/ \b\b- \b\b\\ \b\b| \b\b/ \b\b- \b\b\\ \b\b| \b\b/ \b\b- \b\b\\ \b\b| \b\b/ \b\b- \b\b\\ \b\b| \b\b/ \b\b- \b\b\\ \b\b| \b\b/ \b\b- \b\b\\ \b\b| \b\b/ \b\b- \b\b\\ \b\b| \b\b/ \b\b- \b\b\\ \b\b| \b\b/ \b\b- \b\b\\ \b\b| \b\b/ \b\b- \b\b\\ \b\b| \b\b/ \b\b- \b\b\\ \b\b| \b\b/ \b\b- \b\b\\ \b\b| \b\b/ \b\b- \b\b\\ \b\b| \b\b/ \b\b- \b\b\\ \b\b| \b\b/ \b\b- \b\b\\ \b\b| \b\b/ \b\b- \b\b\\ \b\b| \b\b/ \b\b- \b\b\\ \b\b| \b\b/ \b\b- \b\b\\ \b\b| \b\b/ \b\b- \b\b\\ \b\b| \b\b/ \b\b- \b\b\\ \b\b| \b\b/ \b\b- \b\b\\ \b\b| \b\b/ \b\b- \b\b\\ \b\b| \b\b/ \b\b- \b\b\\ \b\b| \b\b/ \b\b- \b\b\\ \b\b| \b\b/ \b\b- \b\b\\ \b\b| \b\b/ \b\b- \b\b\\ \b\b| \b\b/ \b\b- \b\b\\ \b\b| \b\b/ \b\b- \b\b\\ \b\b| \b\b/ \b\b- \b\b\\ \b\b| \b\b/ \b\b- \b\b\\ \b\b| \b\b/ \b\b- \b\b\\ \b\b| \b\b/ \b\b- \b\b\\ \b\b| \b\b/ \b\b- \b\b\\ \b\b| \b\b/ \b\b- \b\b\\ \b\b| \b\b/ \b\b- \b\b\\ \b\b| \b\b/ \b\b- \b\b\\ \b\b| \b\b/ \b\b- \b\b\\ \b\b| \b\b/ \b\b- \b\b\\ \b\b| \b\b/ \b\b- \b\b\\ \b\b| \b\b/ \b\b- \b\b\\ \b\b| \b\b/ \b\b- \b\b\\ \b\b| \b\b/ \b\b- \b\b\\ \b\b| \b\b/ \b\b- \b\b\\ \b\b| \b\b/ \b\b- \b\b\\ \b\b| \b\b/ \b\bdone\n",
            "Solving environment: \\ \b\b| \b\b/ \b\b- \b\b\\ \b\b| \b\b/ \b\b- \b\b\\ \b\b| \b\b/ \b\b- \b\b\\ \b\b| \b\b/ \b\b- \b\b\\ \b\b| \b\b/ \b\b- \b\b\\ \b\b| \b\b/ \b\b- \b\b\\ \b\b| \b\b/ \b\b- \b\b\\ \b\b| \b\b/ \b\b- \b\b\\ \b\b| \b\b/ \b\b- \b\b\\ \b\b| \b\b/ \b\b- \b\bdone\n",
            "\n",
            "\n",
            "==> WARNING: A newer version of conda exists. <==\n",
            "  current version: 4.9.2\n",
            "  latest version: 4.12.0\n",
            "\n",
            "Please update conda by running\n",
            "\n",
            "    $ conda update -n base conda\n",
            "\n",
            "\n",
            "\n",
            "## Package Plan ##\n",
            "\n",
            "  environment location: /usr/local/envs/test_env\n",
            "\n",
            "  added / updated specs:\n",
            "    - python=3.4\n",
            "\n",
            "\n",
            "The following packages will be downloaded:\n",
            "\n",
            "    package                    |            build\n",
            "    ---------------------------|-----------------\n",
            "    certifi-2017.1.23          |           py34_0         222 KB  conda-forge\n",
            "    ncurses-5.9                |               10         1.1 MB  conda-forge\n",
            "    openssl-1.0.2u             |       h516909a_0         3.2 MB  conda-forge\n",
            "    pip-20.3.4                 |     pyhd8ed1ab_0         1.1 MB  conda-forge\n",
            "    python-3.4.5               |                2        26.9 MB  conda-forge\n",
            "    readline-6.2               |                0         713 KB  conda-forge\n",
            "    setuptools-32.3.1          |           py34_0         507 KB  conda-forge\n",
            "    sqlite-3.13.0              |                1         4.9 MB  conda-forge\n",
            "    tk-8.5.19                  |                2         1.9 MB  conda-forge\n",
            "    ------------------------------------------------------------\n",
            "                                           Total:        40.4 MB\n",
            "\n",
            "The following NEW packages will be INSTALLED:\n",
            "\n",
            "  _libgcc_mutex      conda-forge/linux-64::_libgcc_mutex-0.1-conda_forge\n",
            "  _openmp_mutex      conda-forge/linux-64::_openmp_mutex-4.5-1_gnu\n",
            "  ca-certificates    conda-forge/linux-64::ca-certificates-2021.10.8-ha878542_0\n",
            "  certifi            conda-forge/linux-64::certifi-2017.1.23-py34_0\n",
            "  libgcc-ng          conda-forge/linux-64::libgcc-ng-11.2.0-h1d223b6_15\n",
            "  libgomp            conda-forge/linux-64::libgomp-11.2.0-h1d223b6_15\n",
            "  libzlib            conda-forge/linux-64::libzlib-1.2.11-h166bdaf_1014\n",
            "  ncurses            conda-forge/linux-64::ncurses-5.9-10\n",
            "  openssl            conda-forge/linux-64::openssl-1.0.2u-h516909a_0\n",
            "  pip                conda-forge/noarch::pip-20.3.4-pyhd8ed1ab_0\n",
            "  python             conda-forge/linux-64::python-3.4.5-2\n",
            "  readline           conda-forge/linux-64::readline-6.2-0\n",
            "  setuptools         conda-forge/linux-64::setuptools-32.3.1-py34_0\n",
            "  sqlite             conda-forge/linux-64::sqlite-3.13.0-1\n",
            "  tk                 conda-forge/linux-64::tk-8.5.19-2\n",
            "  wheel              conda-forge/noarch::wheel-0.37.1-pyhd8ed1ab_0\n",
            "  xz                 conda-forge/linux-64::xz-5.2.5-h516909a_1\n",
            "  zlib               conda-forge/linux-64::zlib-1.2.11-h166bdaf_1014\n",
            "\n",
            "\n",
            "\n",
            "Downloading and Extracting Packages\n",
            "tk-8.5.19            | 1.9 MB    | : 100% 1.0/1 [00:00<00:00,  1.79it/s]\n",
            "ncurses-5.9          | 1.1 MB    | : 100% 1.0/1 [00:00<00:00,  1.82it/s]\n",
            "python-3.4.5         | 26.9 MB   | : 100% 1.0/1 [00:07<00:00,  7.44s/it]             \n",
            "openssl-1.0.2u       | 3.2 MB    | : 100% 1.0/1 [00:00<00:00,  1.38it/s]\n",
            "certifi-2017.1.23    | 222 KB    | : 100% 1.0/1 [00:00<00:00,  5.30it/s]               \n",
            "sqlite-3.13.0        | 4.9 MB    | : 100% 1.0/1 [00:01<00:00,  1.09s/it]\n",
            "setuptools-32.3.1    | 507 KB    | : 100% 1.0/1 [00:00<00:00,  3.39it/s]\n",
            "readline-6.2         | 713 KB    | : 100% 1.0/1 [00:00<00:00,  4.72it/s]\n",
            "pip-20.3.4           | 1.1 MB    | : 100% 1.0/1 [00:00<00:00,  2.67it/s]\n",
            "Preparing transaction: | \b\b/ \b\b- \b\b\\ \b\bdone\n",
            "Verifying transaction: / \b\b- \b\b\\ \b\b| \b\b/ \b\b- \b\b\\ \b\b| \b\b/ \b\b- \b\b\\ \b\b| \b\bdone\n",
            "Executing transaction: - \b\b\\ \b\b| \b\b/ \b\b- \b\b\\ \b\b| \b\b/ \b\b- \b\b\\ \b\b| \b\b/ \b\b- \b\b\\ \b\b| \b\b/ \b\b- \b\b\\ \b\b| \b\b/ \b\b- \b\b\\ \b\b| \b\bdone\n",
            "#\n",
            "# To activate this environment, use\n",
            "#\n",
            "#     $ conda activate test_env\n",
            "#\n",
            "# To deactivate an active environment, use\n",
            "#\n",
            "#     $ conda deactivate\n",
            "\n",
            "\n",
            "CommandNotFoundError: Your shell has not been properly configured to use 'conda activate'.\n",
            "To initialize your shell, run\n",
            "\n",
            "    $ conda init <SHELL_NAME>\n",
            "\n",
            "Currently supported shells are:\n",
            "  - bash\n",
            "  - fish\n",
            "  - tcsh\n",
            "  - xonsh\n",
            "  - zsh\n",
            "  - powershell\n",
            "\n",
            "See 'conda init --help' for more information and options.\n",
            "\n",
            "IMPORTANT: You may need to close and restart your shell after running 'conda init'.\n",
            "\n",
            "\n",
            "Processing /home/conda/feedstock_root/build_artifacts/cffi_1613413867554/work\n",
            "\u001b[31mERROR: Could not install packages due to an OSError: [Errno 2] No such file or directory: '/home/conda/feedstock_root/build_artifacts/cffi_1613413867554/work'\n",
            "\u001b[0m\n"
          ]
        }
      ]
    },
    {
      "cell_type": "code",
      "source": [
        "# Exit the current venv (test_env)\n",
        "!conda deactivate"
      ],
      "metadata": {
        "id": "atQnksM8QdEp",
        "colab": {
          "base_uri": "https://localhost:8080/"
        },
        "outputId": "4b53aa70-30f3-451a-bc85-dfe185cea8a0"
      },
      "execution_count": 3,
      "outputs": [
        {
          "output_type": "stream",
          "name": "stdout",
          "text": [
            "\n",
            "CommandNotFoundError: Your shell has not been properly configured to use 'conda deactivate'.\n",
            "To initialize your shell, run\n",
            "\n",
            "    $ conda init <SHELL_NAME>\n",
            "\n",
            "Currently supported shells are:\n",
            "  - bash\n",
            "  - fish\n",
            "  - tcsh\n",
            "  - xonsh\n",
            "  - zsh\n",
            "  - powershell\n",
            "\n",
            "See 'conda init --help' for more information and options.\n",
            "\n",
            "IMPORTANT: You may need to close and restart your shell after running 'conda init'.\n",
            "\n",
            "\n"
          ]
        }
      ]
    }
  ]
}